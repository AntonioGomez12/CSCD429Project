{
 "cells": [
  {
   "cell_type": "code",
   "execution_count": 13,
   "id": "095566f9-c73f-4cfd-9bb5-22db6b8ef053",
   "metadata": {},
   "outputs": [
    {
     "name": "stderr",
     "output_type": "stream",
     "text": [
      "/opt/homebrew/anaconda3/lib/python3.9/site-packages/IPython/core/interactiveshell.py:3444: DtypeWarning: Columns (10) have mixed types.Specify dtype option on import or set low_memory=False.\n",
      "  exec(code_obj, self.user_global_ns, self.user_ns)\n"
     ]
    },
    {
     "name": "stdout",
     "output_type": "stream",
     "text": [
      "        userId  movieId  rating\n",
      "0            1       31     2.5\n",
      "1            1     1029     3.0\n",
      "2            1     1061     3.0\n",
      "3            1     1129     2.0\n",
      "4            1     1172     4.0\n",
      "...        ...      ...     ...\n",
      "99999      671     6268     2.5\n",
      "100000     671     6269     4.0\n",
      "100001     671     6365     4.0\n",
      "100002     671     6385     2.5\n",
      "100003     671     6565     3.5\n",
      "\n",
      "[100004 rows x 3 columns]\n"
     ]
    }
   ],
   "source": [
    "import pandas as pd\n",
    "#from surprise import Reader, Dataset, SVD, evaluate\n",
    "\n",
    "# reading two csv files\n",
    "\n",
    "data1 = pd.read_csv('MovieData/movies_metadata.csv')\n",
    "data2 = pd.read_csv('MovieData/ratings_small.csv')\n",
    "#print(data1)\n",
    "#print(data2)\n",
    "\n",
    "userID_movieID_rating = data2[['userId', 'movieId', 'rating']]\n",
    "MovieID_title = data1[['id' , 'title']]\n",
    "\n",
    "print(userID_movieID_rating)\n",
    " \n",
    "#prints are commented out because tables are big, can use header(tablename) also too see a preview :)"
   ]
  },
  {
   "cell_type": "code",
   "execution_count": 11,
   "id": "04535d67-a01f-4179-9605-0f4cf800157d",
   "metadata": {},
   "outputs": [
    {
     "ename": "NameError",
     "evalue": "name 'Reader' is not defined",
     "output_type": "error",
     "traceback": [
      "\u001b[0;31m---------------------------------------------------------------------------\u001b[0m",
      "\u001b[0;31mNameError\u001b[0m                                 Traceback (most recent call last)",
      "\u001b[0;32m/var/folders/bx/bzyrktsx2936sr3ngz3rnvvc0000gn/T/ipykernel_22447/2528728867.py\u001b[0m in \u001b[0;36m<module>\u001b[0;34m\u001b[0m\n\u001b[0;32m----> 1\u001b[0;31m \u001b[0mreader\u001b[0m \u001b[0;34m=\u001b[0m \u001b[0mReader\u001b[0m\u001b[0;34m(\u001b[0m\u001b[0;34m)\u001b[0m\u001b[0;34m\u001b[0m\u001b[0;34m\u001b[0m\u001b[0m\n\u001b[0m\u001b[1;32m      2\u001b[0m \u001b[0mdata\u001b[0m \u001b[0;34m=\u001b[0m \u001b[0mDataset\u001b[0m\u001b[0;34m.\u001b[0m\u001b[0mload_from_df\u001b[0m\u001b[0;34m(\u001b[0m\u001b[0muserID_movieID_rating\u001b[0m\u001b[0;34m,\u001b[0m \u001b[0mreader\u001b[0m\u001b[0;34m)\u001b[0m\u001b[0;34m\u001b[0m\u001b[0;34m\u001b[0m\u001b[0m\n\u001b[1;32m      3\u001b[0m \u001b[0mtrainset\u001b[0m \u001b[0;34m=\u001b[0m \u001b[0mdata\u001b[0m\u001b[0;34m.\u001b[0m\u001b[0mbuild_full_trainset\u001b[0m\u001b[0;34m(\u001b[0m\u001b[0;34m)\u001b[0m\u001b[0;34m\u001b[0m\u001b[0;34m\u001b[0m\u001b[0m\n\u001b[1;32m      4\u001b[0m \u001b[0msvd\u001b[0m\u001b[0;34m=\u001b[0m\u001b[0mSVD\u001b[0m\u001b[0;34m(\u001b[0m\u001b[0;34m)\u001b[0m\u001b[0;34m\u001b[0m\u001b[0;34m\u001b[0m\u001b[0m\n\u001b[1;32m      5\u001b[0m \u001b[0msvd\u001b[0m\u001b[0;34m.\u001b[0m\u001b[0mtrain\u001b[0m\u001b[0;34m(\u001b[0m\u001b[0mtrainset\u001b[0m\u001b[0;34m)\u001b[0m\u001b[0;34m\u001b[0m\u001b[0;34m\u001b[0m\u001b[0m\n",
      "\u001b[0;31mNameError\u001b[0m: name 'Reader' is not defined"
     ]
    }
   ],
   "source": [
    "reader = Reader()\n",
    "data = Dataset.load_from_df(userID_movieID_rating, reader)\n",
    "trainset = data.build_full_trainset()\n",
    "svd=SVD()\n",
    "svd.train(trainset)\n",
    "userID_movieID_rating[userID_movieID_rating['userId'] == 1]\n",
    "# example run predicting on user 1, movie 302\n",
    "svd.predict(1, 302, 3)\n",
    "#the est returned here is the predicted rating, iid 302 is the movie\n",
    "#the title lives in the metadata file\n",
    "#we need to figure out how to neatly return this rating along with the title and pretty it up :)"
   ]
  },
  {
   "cell_type": "code",
   "execution_count": null,
   "id": "929850ea-ccf4-4b40-bd7a-969f7df1862e",
   "metadata": {},
   "outputs": [],
   "source": [
    "#code here for added a new user (our demo user) into the small matrix we use\n",
    "\n",
    "# add new row for each rating\n",
    "    \n",
    "\n",
    "#we can then call the predict method for each movie (loop through changing ex.302 to all the diff ids)\n",
    "#then we return the highest predicted rated movies "
   ]
  }
 ],
 "metadata": {
  "kernelspec": {
   "display_name": "Python 3 (ipykernel)",
   "language": "python",
   "name": "python3"
  },
  "language_info": {
   "codemirror_mode": {
    "name": "ipython",
    "version": 3
   },
   "file_extension": ".py",
   "mimetype": "text/x-python",
   "name": "python",
   "nbconvert_exporter": "python",
   "pygments_lexer": "ipython3",
   "version": "3.9.7"
  }
 },
 "nbformat": 4,
 "nbformat_minor": 5
}

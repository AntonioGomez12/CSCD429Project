{
 "cells": [
  {
   "cell_type": "code",
   "execution_count": 1,
   "id": "5ba5655c-3189-4e8e-ad8d-2da8814a3363",
   "metadata": {},
   "outputs": [
    {
     "name": "stdout",
     "output_type": "stream",
     "text": [
      "        userId  movieId  rating\n",
      "0          1.0     31.0     2.5\n",
      "1          1.0   1029.0     3.0\n",
      "2          1.0   1061.0     3.0\n",
      "3          1.0   1129.0     2.0\n",
      "4          1.0   1172.0     4.0\n",
      "...        ...      ...     ...\n",
      "99999    671.0   6268.0     2.5\n",
      "100000   671.0   6269.0     4.0\n",
      "100001   671.0   6365.0     4.0\n",
      "100002   671.0   6385.0     2.5\n",
      "100003   671.0   6565.0     3.5\n",
      "\n",
      "[100004 rows x 3 columns]\n"
     ]
    }
   ],
   "source": [
    "import pandas as pd\n",
    "import random\n",
    "import numpy as np\n",
    "\n",
    "data1 = pd.read_csv('MovieData/movies_clean.csv')\n",
    "data2 = pd.read_csv('MovieData/ratings_clean.csv')\n",
    "ratings_df= pd.DataFrame(data2)\n",
    "movies_df = pd.DataFrame(data1[['title','id']])\n",
    "\n",
    "#print(data2_df)\n",
    "unique_id = int(ratings_df['userId'].max())\n",
    "list_genre = [\"Action\", \"Adventure\", \"Animation\", \"Children\", \n",
    "                \"Comedy\", \"Crime\",\"Documentary\", \"Drama\", \"Fantasy\",\n",
    "                \"Film-Noir\", \"Horror\", \"Musical\", \"Mystery\",\"Romance\",\n",
    "                \"Sci-Fi\", \"Thriller\", \"War\", \"Western\"]\n",
    "\n",
    "\n",
    "\n",
    "print(ratings_df)\n",
    "\n",
    "\n",
    "\n",
    "\n",
    "#if user gives input then"
   ]
  },
  {
   "cell_type": "code",
   "execution_count": 2,
   "id": "2fd18366-b604-40f7-bfc3-78cfc212aa7f",
   "metadata": {},
   "outputs": [],
   "source": [
    "#get random movie title from table using genre to populate result\n",
    "Rand_title = (data1['title'][random.randint(1,len(data1['title']))])\n",
    "rand_id = movies_df[movies_df.title == Rand_title]\n",
    "#print(rand_id)\n",
    "#print(float(rand_id['id']))"
   ]
  },
  {
   "cell_type": "code",
   "execution_count": 3,
   "id": "0d59fe87-58eb-49b3-811e-0b2fc2dc3b47",
   "metadata": {},
   "outputs": [
    {
     "name": "stdout",
     "output_type": "stream",
     "text": [
      "There are currently 671 users! Please enter your user number or press key 'n' to be added as a new user!\n"
     ]
    },
    {
     "name": "stdin",
     "output_type": "stream",
     "text": [
      " n\n"
     ]
    },
    {
     "name": "stdout",
     "output_type": "stream",
     "text": [
      "welcome new user! You are now user: 672\n"
     ]
    }
   ],
   "source": [
    "#get userId or create new userId\n",
    "valid = False\n",
    "while valid != True:\n",
    "    print(\"There are currently\",unique_id,\"users! Please enter your user number or press key 'n' to be added as a new user!\")\n",
    "    client_id = input()\n",
    "    \n",
    "    if client_id == 'n':\n",
    "        print('welcome new user! You are now user:',unique_id+1,)\n",
    "        client_id = unique_id+1\n",
    "        break\n",
    "    \n",
    "    if client_id.isdigit() == False:\n",
    "        print(\"***user number must be between 0 -\",unique_id,\"if your'e a new user please enter key 'n'***\")\n",
    "        continue\n",
    "    else:\n",
    "        break\n"
   ]
  },
  {
   "cell_type": "code",
   "execution_count": 5,
   "id": "a01dd038-446b-4a94-bd3c-d28272ed91ea",
   "metadata": {},
   "outputs": [
    {
     "name": "stdout",
     "output_type": "stream",
     "text": [
      "user 672 please rate the following movie 1.0-5.0 or press 's' to skip if you have not watched this movie\n",
      "Into the Sun\n"
     ]
    },
    {
     "name": "stdin",
     "output_type": "stream",
     "text": [
      " 3\n"
     ]
    },
    {
     "name": "stdout",
     "output_type": "stream",
     "text": [
      "Great! only 4 movies left to rate!\n",
      "user 672 please rate the following movie 1.0-5.0 or press 's' to skip if you have not watched this movie\n",
      "Captain January\n"
     ]
    },
    {
     "name": "stdin",
     "output_type": "stream",
     "text": [
      " 4\n"
     ]
    },
    {
     "name": "stdout",
     "output_type": "stream",
     "text": [
      "Great! only 3 movies left to rate!\n",
      "user 672 please rate the following movie 1.0-5.0 or press 's' to skip if you have not watched this movie\n",
      "Crockdale\n"
     ]
    },
    {
     "name": "stdin",
     "output_type": "stream",
     "text": [
      " 2\n"
     ]
    },
    {
     "name": "stdout",
     "output_type": "stream",
     "text": [
      "Great! only 2 movies left to rate!\n",
      "user 672 please rate the following movie 1.0-5.0 or press 's' to skip if you have not watched this movie\n",
      "Journey Into Fear\n"
     ]
    },
    {
     "name": "stdin",
     "output_type": "stream",
     "text": [
      " 5\n"
     ]
    },
    {
     "name": "stdout",
     "output_type": "stream",
     "text": [
      "Great! only 1 movies left to rate!\n",
      "user 672 please rate the following movie 1.0-5.0 or press 's' to skip if you have not watched this movie\n",
      "Podwórka\n"
     ]
    },
    {
     "name": "stdin",
     "output_type": "stream",
     "text": [
      " s\n"
     ]
    },
    {
     "name": "stdout",
     "output_type": "stream",
     "text": [
      "user 672 please rate the following movie 1.0-5.0 or press 's' to skip if you have not watched this movie\n",
      "The Delicate Art of Parking\n"
     ]
    },
    {
     "name": "stdin",
     "output_type": "stream",
     "text": [
      " 4\n"
     ]
    },
    {
     "name": "stdout",
     "output_type": "stream",
     "text": [
      "Minimum requred ratings are met!\n",
      "Continue rating movies? Remember the more ratings the better the recommendation! 'y' for yes 'n' for no\n"
     ]
    },
    {
     "name": "stdin",
     "output_type": "stream",
     "text": [
      " y\n"
     ]
    },
    {
     "name": "stdout",
     "output_type": "stream",
     "text": [
      "user 672 please rate the following movie 1.0-5.0 or press 's' to skip if you have not watched this movie\n",
      "Digital Dharma\n"
     ]
    },
    {
     "name": "stdin",
     "output_type": "stream",
     "text": [
      " 3\n"
     ]
    },
    {
     "name": "stdout",
     "output_type": "stream",
     "text": [
      "Minimum requred ratings are met!\n",
      "Continue rating movies? Remember the more ratings the better the recommendation! 'y' for yes 'n' for no\n"
     ]
    },
    {
     "name": "stdin",
     "output_type": "stream",
     "text": [
      " y\n"
     ]
    },
    {
     "name": "stdout",
     "output_type": "stream",
     "text": [
      "user 672 please rate the following movie 1.0-5.0 or press 's' to skip if you have not watched this movie\n",
      "Let Him Be\n"
     ]
    },
    {
     "name": "stdin",
     "output_type": "stream",
     "text": [
      " 3\n"
     ]
    },
    {
     "name": "stdout",
     "output_type": "stream",
     "text": [
      "Minimum requred ratings are met!\n",
      "Continue rating movies? Remember the more ratings the better the recommendation! 'y' for yes 'n' for no\n"
     ]
    },
    {
     "name": "stdin",
     "output_type": "stream",
     "text": [
      " n\n"
     ]
    },
    {
     "name": "stdout",
     "output_type": "stream",
     "text": [
      "   userId   movieId  rating\n",
      "0   672.0  209369.0     3.0\n",
      "1   672.0  148326.0     4.0\n",
      "2   672.0  322260.0     2.0\n",
      "3   672.0  200331.0     5.0\n",
      "4   672.0   45161.0     4.0\n",
      "5   672.0  126140.0     3.0\n",
      "6   672.0   81843.0     3.0\n"
     ]
    }
   ],
   "source": [
    "#ask user to rate random movies the more ratings the better\n",
    "client_df = pd.DataFrame()\n",
    "client_df['userId'] = ''\n",
    "client_df['movieId'] = ''\n",
    "client_df['rating'] = ''\n",
    "\n",
    "flag = False\n",
    "cont = True\n",
    "min_rate = 1\n",
    "while flag != True or cont == True:\n",
    "    print(\"user\",client_id,\"please rate the following movie 1.0-5.0 or press 's' to skip if you have not watched this movie\")\n",
    "    print(Rand_title)\n",
    "    client_rating = input()\n",
    "    \n",
    "    if client_rating == 's':\n",
    "        Rand_title = (data1['title'][random.randint(0,len(data1['title']))])\n",
    "        rand_id = movies_df[movies_df.title == Rand_title]\n",
    "        continue\n",
    "    if client_rating.isalpha():\n",
    "        print(\"Only digits here please!\")\n",
    "        continue\n",
    "    if float(client_rating) > 5 or float(client_rating) < 1:\n",
    "        print(\"The rating must be between 1.0-5.0, please try again or 's' to skip this movie\")\n",
    "        continue\n",
    "    else:\n",
    "\n",
    "        get_rand_id = (float(rand_id['id']))\n",
    "        get_rating = (float(client_rating))\n",
    "        #print(get_rand_id)\n",
    "        #print(get_rating)\n",
    "        \n",
    "    #***append movie Id and user Rating***\n",
    "        \n",
    "        row2 = {\n",
    "            \"userId\": client_id,\n",
    "            \"movieId\": get_rand_id,\n",
    "            \"rating\": get_rating\n",
    "                }\n",
    "        client_df = client_df.append(row2, ignore_index=True)\n",
    "        client_df.tail()\n",
    "    #*************************************\n",
    "    \n",
    "        if min_rate < 5:\n",
    "            min_rate += 1\n",
    "            print(\"Great! only\",6-min_rate,\"movies left to rate!\")\n",
    "            Rand_title = (data1['title'][random.randint(0,len(data1['title']))])\n",
    "            rand_id = movies_df[movies_df.title == Rand_title]\n",
    "            continue\n",
    "        if min_rate >= 5:\n",
    "            flag = True\n",
    "            good = False\n",
    "            while good != True:\n",
    "                print(\"Minimum requred ratings are met!\")\n",
    "                print(\"Continue rating movies? Remember the more ratings the better the recommendation! 'y' for yes 'n' for no\")\n",
    "                keep_going = input()\n",
    "                if keep_going.isdigit() == True:\n",
    "                    print(\"we need either 'y' or 'n' here\")\n",
    "                    continue\n",
    "                if keep_going == 'n':\n",
    "                    cont = False\n",
    "                    good = True\n",
    "                    break\n",
    "                if keep_going == 'y':\n",
    "                    Rand_title = (data1['title'][random.randint(0,len(data1['title']))])\n",
    "                    rand_id = movies_df[movies_df.title == Rand_title]\n",
    "                    cont = True\n",
    "                    good = True\n",
    "                    break\n",
    "                else:\n",
    "                    print(\"we need either 'y' or 'n' here\")\n",
    "\n",
    "\n",
    "#return client_df\n",
    "print(client_df)\n",
    "\n",
    "                    \n",
    "\n",
    "    "
   ]
  },
  {
   "cell_type": "code",
   "execution_count": 6,
   "id": "82c4dc85-f943-4c14-8b01-911d15ba07a1",
   "metadata": {},
   "outputs": [
    {
     "name": "stdout",
     "output_type": "stream",
     "text": [
      "        userId   movieId  rating\n",
      "0          1.0      31.0     2.5\n",
      "1          1.0    1029.0     3.0\n",
      "2          1.0    1061.0     3.0\n",
      "3          1.0    1129.0     2.0\n",
      "4          1.0    1172.0     4.0\n",
      "...        ...       ...     ...\n",
      "100006   672.0  322260.0     2.0\n",
      "100007   672.0  200331.0     5.0\n",
      "100008   672.0   45161.0     4.0\n",
      "100009   672.0  126140.0     3.0\n",
      "100010   672.0   81843.0     3.0\n",
      "\n",
      "[100011 rows x 3 columns]\n"
     ]
    }
   ],
   "source": [
    "#append client_df to ratings_df_copy\n",
    "ratings_df_copy = ratings_df.append(client_df,ignore_index=True)\n",
    "ratings_df_copy.tail()\n",
    "\n",
    "print(ratings_df_copy)\n"
   ]
  },
  {
   "cell_type": "code",
   "execution_count": null,
   "id": "73b6be28-458f-4f0a-b5dc-71d0a05b258a",
   "metadata": {},
   "outputs": [],
   "source": []
  }
 ],
 "metadata": {
  "kernelspec": {
   "display_name": "Python 3 (ipykernel)",
   "language": "python",
   "name": "python3"
  },
  "language_info": {
   "codemirror_mode": {
    "name": "ipython",
    "version": 3
   },
   "file_extension": ".py",
   "mimetype": "text/x-python",
   "name": "python",
   "nbconvert_exporter": "python",
   "pygments_lexer": "ipython3",
   "version": "3.9.7"
  }
 },
 "nbformat": 4,
 "nbformat_minor": 5
}
